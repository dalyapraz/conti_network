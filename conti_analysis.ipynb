{
 "cells": [
  {
   "cell_type": "markdown",
   "metadata": {},
   "source": [
    "Here we will take a directory of chat logs and merge them. We will take our desired directory path and output file name and return a single json file with all logs.\n",
    "\n",
    "Note that we run file formatting on each singular json file to add the proper delimiters and formatting, then run it again on our output file to ensure our formatting is consistent."
   ]
  },
  {
   "cell_type": "code",
   "execution_count": null,
   "metadata": {},
   "outputs": [],
   "source": [
    "import json\n",
    "import os\n",
    "\n",
    "def file_formatting(fp):\n",
    "    parser = json.JSONDecoder()\n",
    "    parsed = []  # a list to hold individually parsed JSON structures\n",
    "    with open(fp) as f:\n",
    "        data = f.read()\n",
    "    head = 0  # hold the current position as we parse\n",
    "    while True:\n",
    "        head = (data.find('{', head) + 1 or data.find('[', head) + 1) - 1\n",
    "        try:\n",
    "            struct, head = parser.raw_decode(data, head)\n",
    "            parsed.append(struct)\n",
    "        except (ValueError, json.JSONDecodeError):  # no more valid JSON structures\n",
    "            break\n",
    "    json_obj = json.dumps(parsed, indent=2)\n",
    "    return json_obj\n",
    "\n",
    "def merge_chats(dir, output):\n",
    "    result = []\n",
    "    with open(output, \"w\") as out:\n",
    "        for file in os.listdir(dir):\n",
    "            f = os.path.join(dir, file)\n",
    "            if os.path.isfile(f):\n",
    "                out.write(file_formatting(f))\n",
    "    result = file_formatting(output)\n",
    "    with open(output, \"w\") as out:\n",
    "        out.write(result)\n",
    "\n",
    "#Merge all jabber into one json file\n",
    "jabber_dir = \"/Users/sabrygateley/Downloads/Conti Jabber Chat Logs 2021 - 2022/\"\n",
    "jabber_out = \"jabber_logs.json\"\n",
    "merge_chats(jabber_dir,jabber_out )\n",
    "\n",
    "#Merge all chats into one json file\n",
    "chat_dir = \"/Users/sabrygateley/Downloads/Conti Chat Logs 2020/\"\n",
    "chat_out = \"chat_logs.json\"\n",
    "merge_chats(chat_dir,chat_out)"
   ]
  },
  {
   "cell_type": "markdown",
   "metadata": {},
   "source": [
    "Here we will find a unique list of users from a JSON file we input. "
   ]
  },
  {
   "cell_type": "code",
   "execution_count": null,
   "metadata": {},
   "outputs": [],
   "source": [
    "import numpy\n",
    "import argparse\n",
    "def user_parser(data_json):\n",
    "    users = []\n",
    "    parser = argparse.ArgumentParser()\n",
    "    parser.add_argument('-i', action='store')\n",
    "    filename = data_json\n",
    "    with open(filename) as f:\n",
    "        json_data = json.load(f)\n",
    "    for i in (json_data):\n",
    "        user_str = i['from']\n",
    "        lst = user_str.split('@')\n",
    "        users.append(lst[0]) \n",
    "        user_str = i['to']\n",
    "        lst = user_str.split('@')\n",
    "        users.append(lst[0]) \n",
    "    users_np = numpy.array(users)\n",
    "    return numpy.unique(users_np)\n",
    "    \n",
    "#Merge all jabber into one json file\n",
    "jabber_dir = \"/Users/sabrygateley/Downloads/Conti Jabber Chat Logs 2021 - 2022/\"\n",
    "jabber_out = \"jabber_logs.json\"\n",
    "merge_chats(jabber_dir,jabber_out )\n",
    "\n",
    "#Merge all chats into one json file\n",
    "chat_dir = \"/Users/sabrygateley/Downloads/Conti Chat Logs 2020/\"\n",
    "chat_out = \"chat_logs.json\"\n",
    "merge_chats(chat_dir,chat_out)\n",
    "\n",
    "#Evaluates user lists\n",
    "jabber_users = user_parser(jabber_out)\n",
    "chat_users = user_parser(chat_out)\n",
    "both = [i for i in jabber_users if i in chat_users]\n",
    "unique_chat = [i for i in chat_users if i not in jabber_users]\n",
    "unique_jabber = [i for i in jabber_users if i not in chat_users]"
   ]
  },
  {
   "cell_type": "markdown",
   "metadata": {},
   "source": [
    "Our time parser accepts a json file and will return a json object with the timestamps converted to datetime type."
   ]
  },
  {
   "cell_type": "code",
   "execution_count": null,
   "metadata": {},
   "outputs": [],
   "source": [
    "import dateutil\n",
    "def time_parser(data_json):\n",
    "    parser = argparse.ArgumentParser()\n",
    "    parser.add_argument('-i', action='store')\n",
    "    filename = data_json\n",
    "    with open(filename) as f:\n",
    "        json_data = json.load(f)\n",
    "    for i in (json_data[\"messages\"]):\n",
    "        i['ts'] = dateutil.parser.isoparse(i['ts']) # ISO 8601 extended format\n",
    "    return json_data"
   ]
  }
 ],
 "metadata": {
  "kernelspec": {
   "display_name": "Python 3.10.2 64-bit",
   "language": "python",
   "name": "python3"
  },
  "language_info": {
   "name": "python",
   "version": "3.10.2"
  },
  "orig_nbformat": 4,
  "vscode": {
   "interpreter": {
    "hash": "31f2aee4e71d21fbe5cf8b01ff0e069b9275f58929596ceb00d14d90e3e16cd6"
   }
  }
 },
 "nbformat": 4,
 "nbformat_minor": 2
}
